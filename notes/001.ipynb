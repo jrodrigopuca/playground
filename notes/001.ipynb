{
 "cells": [
  {
   "cell_type": "code",
   "execution_count": 8,
   "id": "1877656b-cd5c-4690-9f5b-07871131b912",
   "metadata": {},
   "outputs": [
    {
     "data": {
      "text/plain": [
       "\"hello\""
      ]
     },
     "execution_count": 8,
     "metadata": {},
     "output_type": "execute_result"
    }
   ],
   "source": [
    "first_var = \"hello\" #asignación"
   ]
  },
  {
   "cell_type": "markdown",
   "id": "8095ab53-060f-4fae-9795-be1e448af6ee",
   "metadata": {},
   "source": [
    "### Tipos"
   ]
  },
  {
   "cell_type": "code",
   "execution_count": 11,
   "id": "2a74de70-4d22-42e6-b07b-f45ae0eae1c2",
   "metadata": {},
   "outputs": [
    {
     "data": {
      "text/plain": [
       "String"
      ]
     },
     "execution_count": 11,
     "metadata": {},
     "output_type": "execute_result"
    }
   ],
   "source": [
    "\"hello\"::class #tipo"
   ]
  },
  {
   "cell_type": "code",
   "execution_count": 12,
   "id": "b93dd0f4-aab2-44b1-ab5d-ab30dba0049d",
   "metadata": {},
   "outputs": [
    {
     "data": {
      "text/plain": [
       "Integer"
      ]
     },
     "execution_count": 12,
     "metadata": {},
     "output_type": "execute_result"
    }
   ],
   "source": [
    "10::class"
   ]
  },
  {
   "cell_type": "code",
   "execution_count": 13,
   "id": "578f5b40-140c-4577-8994-8ffcc73ce7ef",
   "metadata": {},
   "outputs": [
    {
     "data": {
      "text/plain": [
       "Float"
      ]
     },
     "execution_count": 13,
     "metadata": {},
     "output_type": "execute_result"
    }
   ],
   "source": [
    "2.1::class"
   ]
  },
  {
   "cell_type": "code",
   "execution_count": 14,
   "id": "4d18d0c2-fd8b-4099-8670-9ea6bf37360b",
   "metadata": {},
   "outputs": [
    {
     "data": {
      "text/plain": [
       "Complex"
      ]
     },
     "execution_count": 14,
     "metadata": {},
     "output_type": "execute_result"
    }
   ],
   "source": [
    "(2+1i)::class "
   ]
  },
  {
   "cell_type": "code",
   "execution_count": 15,
   "id": "c55cfbec-703c-47f0-97c4-5ff42f643fec",
   "metadata": {},
   "outputs": [
    {
     "data": {
      "text/plain": [
       "Rational"
      ]
     },
     "execution_count": 15,
     "metadata": {},
     "output_type": "execute_result"
    }
   ],
   "source": [
    "(2/3r)::class"
   ]
  },
  {
   "cell_type": "code",
   "execution_count": 16,
   "id": "ef800942-f0f3-4780-89fb-f77fb31cd55f",
   "metadata": {},
   "outputs": [
    {
     "data": {
      "text/plain": [
       "FalseClass"
      ]
     },
     "execution_count": 16,
     "metadata": {},
     "output_type": "execute_result"
    }
   ],
   "source": [
    "false::class"
   ]
  },
  {
   "cell_type": "code",
   "execution_count": 17,
   "id": "cf220058-e678-47c1-afee-73dbbca26953",
   "metadata": {},
   "outputs": [
    {
     "data": {
      "text/plain": [
       "TrueClass"
      ]
     },
     "execution_count": 17,
     "metadata": {},
     "output_type": "execute_result"
    }
   ],
   "source": [
    "true::class"
   ]
  },
  {
   "cell_type": "code",
   "execution_count": null,
   "id": "91c2b9cd-8bc5-4d07-be21-db679dcd85a2",
   "metadata": {},
   "outputs": [],
   "source": []
  }
 ],
 "metadata": {
  "kernelspec": {
   "display_name": "Ruby 3.1.3",
   "language": "ruby",
   "name": "ruby"
  },
  "language_info": {
   "file_extension": ".rb",
   "mimetype": "application/x-ruby",
   "name": "ruby",
   "version": "3.1.3"
  }
 },
 "nbformat": 4,
 "nbformat_minor": 5
}
