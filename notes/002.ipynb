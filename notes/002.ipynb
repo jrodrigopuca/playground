{
 "cells": [
  {
   "cell_type": "markdown",
   "id": "f6bd7c44-cb9d-4057-b2ae-16f4603c41ce",
   "metadata": {},
   "source": [
    "### Métodos "
   ]
  },
  {
   "cell_type": "code",
   "execution_count": 18,
   "id": "e240993e-4cf6-4faa-87b0-9a80a3df3e10",
   "metadata": {},
   "outputs": [
    {
     "data": {
      "text/plain": [
       "3"
      ]
     },
     "execution_count": 18,
     "metadata": {},
     "output_type": "execute_result"
    }
   ],
   "source": [
    "2.next #siguiente"
   ]
  },
  {
   "cell_type": "code",
   "execution_count": 20,
   "id": "5bff80ff-f17b-4175-91a7-6705feee288d",
   "metadata": {},
   "outputs": [
    {
     "data": {
      "text/plain": [
       "1"
      ]
     },
     "execution_count": 20,
     "metadata": {},
     "output_type": "execute_result"
    }
   ],
   "source": [
    "2.pred #anterior"
   ]
  },
  {
   "cell_type": "code",
   "execution_count": 21,
   "id": "4fecf240-06bd-4458-8368-f1019db85885",
   "metadata": {},
   "outputs": [
    {
     "data": {
      "text/plain": [
       "8"
      ]
     },
     "execution_count": 21,
     "metadata": {},
     "output_type": "execute_result"
    }
   ],
   "source": [
    "2.lcm 8 #minimo común múltiplo"
   ]
  },
  {
   "cell_type": "code",
   "execution_count": 22,
   "id": "9bd4bd9c-9de2-4a40-b801-d2786b693d35",
   "metadata": {},
   "outputs": [
    {
     "data": {
      "text/plain": [
       "2"
      ]
     },
     "execution_count": 22,
     "metadata": {},
     "output_type": "execute_result"
    }
   ],
   "source": [
    "2.gcd 8 #máximo común divisor"
   ]
  },
  {
   "cell_type": "code",
   "execution_count": 24,
   "id": "400e4200-4c4f-4880-81d5-65a4cb5ae54f",
   "metadata": {},
   "outputs": [
    {
     "data": {
      "text/plain": [
       "3"
      ]
     },
     "execution_count": 24,
     "metadata": {},
     "output_type": "execute_result"
    }
   ],
   "source": [
    "2.56::ceil #redondeo para arriba"
   ]
  },
  {
   "cell_type": "code",
   "execution_count": 25,
   "id": "cdea97b8-a9d8-403c-bf0f-99f5651371b1",
   "metadata": {},
   "outputs": [
    {
     "data": {
      "text/plain": [
       "2"
      ]
     },
     "execution_count": 25,
     "metadata": {},
     "output_type": "execute_result"
    }
   ],
   "source": [
    "2.56::floor #redondeo para abajo"
   ]
  },
  {
   "cell_type": "code",
   "execution_count": 26,
   "id": "dcfeb4e8-9930-4607-9c17-cf3d5c22edd7",
   "metadata": {},
   "outputs": [
    {
     "data": {
      "text/plain": [
       "4.700000000000001"
      ]
     },
     "execution_count": 26,
     "metadata": {},
     "output_type": "execute_result"
    }
   ],
   "source": [
    "4.7::next_float #siguiente flotante"
   ]
  },
  {
   "cell_type": "code",
   "execution_count": 28,
   "id": "553b8f9e-6d1c-4872-a868-abb46e3d1ca5",
   "metadata": {},
   "outputs": [
    {
     "data": {
      "text/plain": [
       "4.699999999999999"
      ]
     },
     "execution_count": 28,
     "metadata": {},
     "output_type": "execute_result"
    }
   ],
   "source": [
    "4.7::prev_float #previo flotante"
   ]
  },
  {
   "cell_type": "code",
   "execution_count": 29,
   "id": "360b3c19-34cc-4283-94e7-42b520ab2340",
   "metadata": {},
   "outputs": [
    {
     "data": {
      "text/plain": [
       "(47/10)"
      ]
     },
     "execution_count": 29,
     "metadata": {},
     "output_type": "execute_result"
    }
   ],
   "source": [
    "4.7::rationalize #convertir a fracción"
   ]
  },
  {
   "cell_type": "code",
   "execution_count": null,
   "id": "76744324-54cd-40e6-acb1-0bc81e500f0d",
   "metadata": {},
   "outputs": [],
   "source": []
  }
 ],
 "metadata": {
  "kernelspec": {
   "display_name": "Ruby 3.1.3",
   "language": "ruby",
   "name": "ruby"
  },
  "language_info": {
   "file_extension": ".rb",
   "mimetype": "application/x-ruby",
   "name": "ruby",
   "version": "3.1.3"
  }
 },
 "nbformat": 4,
 "nbformat_minor": 5
}
