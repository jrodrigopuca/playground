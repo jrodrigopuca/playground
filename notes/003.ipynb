{
 "cells": [
  {
   "cell_type": "markdown",
   "id": "dc5f75fa-8376-45a7-b2d7-b6825d150e75",
   "metadata": {},
   "source": [
    "### Constantes"
   ]
  },
  {
   "cell_type": "code",
   "execution_count": 33,
   "id": "dd9f4e74-eea6-441a-bd24-e070f68ba7da",
   "metadata": {},
   "outputs": [
    {
     "data": {
      "text/plain": [
       "2.2250738585072014e-308"
      ]
     },
     "execution_count": 33,
     "metadata": {},
     "output_type": "execute_result"
    }
   ],
   "source": [
    "Float::MIN"
   ]
  },
  {
   "cell_type": "code",
   "execution_count": 34,
   "id": "ec507ee3-c4f5-4c6d-baae-7d1c51eb5440",
   "metadata": {},
   "outputs": [
    {
     "data": {
      "text/plain": [
       "1.7976931348623157e+308"
      ]
     },
     "execution_count": 34,
     "metadata": {},
     "output_type": "execute_result"
    }
   ],
   "source": [
    "Float::MAX"
   ]
  },
  {
   "cell_type": "code",
   "execution_count": 35,
   "id": "1dcd510f-97e5-4da9-a03f-8bce72d72f21",
   "metadata": {},
   "outputs": [
    {
     "data": {
      "text/plain": [
       "NaN"
      ]
     },
     "execution_count": 35,
     "metadata": {},
     "output_type": "execute_result"
    }
   ],
   "source": [
    "Float::NAN"
   ]
  },
  {
   "cell_type": "code",
   "execution_count": null,
   "id": "1df9bacf-5df0-4dcd-bc94-cbf1f054df72",
   "metadata": {},
   "outputs": [],
   "source": []
  }
 ],
 "metadata": {
  "kernelspec": {
   "display_name": "Ruby 3.1.3",
   "language": "ruby",
   "name": "ruby"
  },
  "language_info": {
   "file_extension": ".rb",
   "mimetype": "application/x-ruby",
   "name": "ruby",
   "version": "3.1.3"
  }
 },
 "nbformat": 4,
 "nbformat_minor": 5
}
